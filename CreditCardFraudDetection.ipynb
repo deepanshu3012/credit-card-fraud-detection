{
 "cells": [
  {
   "cell_type": "code",
   "execution_count": 1,
   "id": "6d39821d-e91c-4d37-8e6c-5b643e7548a8",
   "metadata": {},
   "outputs": [],
   "source": [
    "import pandas as pd\n",
    "\n",
    "# Load the training and test datasets\n",
    "train_df = pd.read_csv('data/fraudTrain.csv')  # Replace with your actual path\n",
    "test_df = pd.read_csv('data/fraudTest.csv')    # Replace with your actual path\n",
    "\n"
   ]
  },
  {
   "cell_type": "code",
   "execution_count": 2,
   "id": "c899b29c-5e31-418b-a183-6226cd092900",
   "metadata": {},
   "outputs": [],
   "source": [
    "# Step 1: Drop the 'Unnamed: 0' column for both train and test datasets\n",
    "train_df = train_df.drop(columns=['Unnamed: 0'])\n",
    "test_df = test_df.drop(columns=['Unnamed: 0'])\n",
    "\n"
   ]
  },
  {
   "cell_type": "code",
   "execution_count": 3,
   "id": "eea4daa6-998b-4f92-ad80-158826981889",
   "metadata": {},
   "outputs": [
    {
     "name": "stdout",
     "output_type": "stream",
     "text": [
      "✅ All categorical columns encoded successfully.\n"
     ]
    }
   ],
   "source": [
    "from sklearn.preprocessing import LabelEncoder\n",
    "import pandas as pd\n",
    "\n",
    "# Step 1: Convert datetime columns\n",
    "for df in [train_df, test_df]:\n",
    "    df[\"trans_date_trans_time\"] = pd.to_datetime(df[\"trans_date_trans_time\"])\n",
    "    df[\"year\"] = df[\"trans_date_trans_time\"].dt.year\n",
    "    df[\"month\"] = df[\"trans_date_trans_time\"].dt.month\n",
    "    df[\"day\"] = df[\"trans_date_trans_time\"].dt.day\n",
    "    df[\"hour\"] = df[\"trans_date_trans_time\"].dt.hour\n",
    "    df[\"minute\"] = df[\"trans_date_trans_time\"].dt.minute\n",
    "    df[\"second\"] = df[\"trans_date_trans_time\"].dt.second\n",
    "\n",
    "# Step 2: Drop columns that won't help modeling directly (like long text or IDs)\n",
    "cols_to_drop = [\"trans_date_trans_time\", \"first\", \"last\", \"street\", \"dob\", \"trans_num\"]\n",
    "train_df = train_df.drop(columns=cols_to_drop)\n",
    "test_df = test_df.drop(columns=cols_to_drop)\n",
    "\n",
    "# Step 3: Encode categorical variables safely and quickly\n",
    "categorical_cols = train_df.select_dtypes(include=\"object\").columns\n",
    "\n",
    "for col in categorical_cols:\n",
    "    le = LabelEncoder()\n",
    "    train_df[col] = le.fit_transform(train_df[col])\n",
    "    \n",
    "    # Create a dictionary to map known values\n",
    "    mapping_dict = {label: idx for idx, label in enumerate(le.classes_)}\n",
    "    \n",
    "    # Use map and fillna for unseen labels in test set\n",
    "    test_df[col] = test_df[col].map(mapping_dict).fillna(-1).astype(int)\n",
    "\n",
    "print(\"✅ All categorical columns encoded successfully.\")\n"
   ]
  },
  {
   "cell_type": "code",
   "execution_count": 5,
   "id": "e2668616-aeda-4aaa-a125-311dcd09a1ce",
   "metadata": {},
   "outputs": [
    {
     "name": "stdout",
     "output_type": "stream",
     "text": [
      "X_train_scaled shape: (1296675, 21)\n",
      "X_test_scaled shape: (555719, 21)\n"
     ]
    }
   ],
   "source": [
    "from sklearn.preprocessing import StandardScaler\n",
    "\n",
    "# 1. Separate features and target\n",
    "X_train = train_df.drop(columns=['is_fraud'])\n",
    "y_train = train_df['is_fraud']\n",
    "\n",
    "X_test = test_df.drop(columns=['is_fraud'])\n",
    "y_test = test_df['is_fraud']  # Only if you have this in test data\n",
    "\n",
    "# 2. Initialize the scaler\n",
    "scaler = StandardScaler()\n",
    "\n",
    "# 3. Fit on training data and transform both\n",
    "X_train_scaled = scaler.fit_transform(X_train)\n",
    "X_test_scaled = scaler.transform(X_test)\n",
    "\n",
    "# Optional: Check shapes to confirm\n",
    "print(\"X_train_scaled shape:\", X_train_scaled.shape)\n",
    "print(\"X_test_scaled shape:\", X_test_scaled.shape)\n"
   ]
  },
  {
   "cell_type": "code",
   "execution_count": 7,
   "id": "81a678e8-f079-4800-b8dc-675f2682e5d3",
   "metadata": {},
   "outputs": [
    {
     "name": "stdout",
     "output_type": "stream",
     "text": [
      "Classification Report (with class_weight='balanced'):\n",
      "              precision    recall  f1-score   support\n",
      "\n",
      "           0       1.00      0.97      0.98    553574\n",
      "           1       0.09      0.74      0.16      2145\n",
      "\n",
      "    accuracy                           0.97    555719\n",
      "   macro avg       0.54      0.85      0.57    555719\n",
      "weighted avg       1.00      0.97      0.98    555719\n",
      "\n",
      "\n",
      "Confusion Matrix:\n",
      "[[537283  16291]\n",
      " [   568   1577]]\n"
     ]
    }
   ],
   "source": [
    "from sklearn.linear_model import LogisticRegression\n",
    "from sklearn.metrics import classification_report, confusion_matrix\n",
    "\n",
    "# Logistic Regression with class weight balanced\n",
    "model_balanced = LogisticRegression(max_iter=1000, class_weight='balanced')\n",
    "model_balanced.fit(X_train_scaled, y_train)\n",
    "\n",
    "# Predict on test set\n",
    "y_pred_balanced = model_balanced.predict(X_test_scaled)\n",
    "\n",
    "# Evaluate model\n",
    "print(\"Classification Report (with class_weight='balanced'):\")\n",
    "print(classification_report(y_test, y_pred_balanced))\n",
    "print(\"\\nConfusion Matrix:\")\n",
    "print(confusion_matrix(y_test, y_pred_balanced))\n"
   ]
  },
  {
   "cell_type": "code",
   "execution_count": 8,
   "id": "a02156da-b9e5-4d70-bacc-5b237ad3bff8",
   "metadata": {},
   "outputs": [
    {
     "data": {
      "text/plain": [
       "['scaler.pkl']"
      ]
     },
     "execution_count": 8,
     "metadata": {},
     "output_type": "execute_result"
    }
   ],
   "source": [
    "import joblib\n",
    "\n",
    "# Save the model\n",
    "joblib.dump(model, 'logistic_model.pkl')\n",
    "\n",
    "# Save the scaler\n",
    "joblib.dump(scaler, 'scaler.pkl')\n"
   ]
  },
  {
   "cell_type": "code",
   "execution_count": null,
   "id": "2413aa21-f45b-430b-a5a3-0cce0e739383",
   "metadata": {},
   "outputs": [],
   "source": []
  },
  {
   "cell_type": "code",
   "execution_count": null,
   "id": "e9f3663f-5963-491c-8aa9-feac61934190",
   "metadata": {},
   "outputs": [],
   "source": []
  },
  {
   "cell_type": "code",
   "execution_count": null,
   "id": "e0b6d8c4-f7d8-49d6-b2c0-73833b325090",
   "metadata": {},
   "outputs": [],
   "source": []
  }
 ],
 "metadata": {
  "kernelspec": {
   "display_name": "Python 3 (ipykernel)",
   "language": "python",
   "name": "python3"
  },
  "language_info": {
   "codemirror_mode": {
    "name": "ipython",
    "version": 3
   },
   "file_extension": ".py",
   "mimetype": "text/x-python",
   "name": "python",
   "nbconvert_exporter": "python",
   "pygments_lexer": "ipython3",
   "version": "3.12.5"
  }
 },
 "nbformat": 4,
 "nbformat_minor": 5
}
